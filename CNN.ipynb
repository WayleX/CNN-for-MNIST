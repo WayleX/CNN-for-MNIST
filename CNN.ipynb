{
 "cells": [
  {
   "cell_type": "code",
   "execution_count": 59,
   "metadata": {},
   "outputs": [],
   "source": [
    "# Necessary imports\n",
    "import torchvision\n",
    "import matplotlib.pyplot as plt\n",
    "import torch.nn as nn\n",
    "import torch"
   ]
  },
  {
   "cell_type": "code",
   "execution_count": 60,
   "metadata": {},
   "outputs": [],
   "source": [
    "from torchvision import transforms\n",
    "# Dataset loading \n",
    "path_to_images = './dataset/'\n",
    "transform = transforms.Compose([\n",
    "    transforms.ToTensor()\n",
    "])\n",
    "MNIST_dataset = torchvision.datasets.MNIST(\n",
    "    root = path_to_images,\n",
    "    train = True,\n",
    "    transform = transform,\n",
    "    download = True\n",
    ")\n",
    "MNIST_test_dataset = torchvision.datasets.MNIST(\n",
    "    root = path_to_images,\n",
    "    train = False,\n",
    "    transform = transform,\n",
    "    download = True\n",
    ")\n"
   ]
  },
  {
   "cell_type": "code",
   "execution_count": 61,
   "metadata": {},
   "outputs": [],
   "source": [
    "# Split train set on train and dev sets\n",
    "from torch.utils.data import random_split\n",
    "emnist_train_dataset, emnist_dev_dataset = random_split(MNIST_dataset, [50000,10000])\n"
   ]
  },
  {
   "cell_type": "code",
   "execution_count": 62,
   "metadata": {},
   "outputs": [],
   "source": [
    "# Choose batchsize and creates DataLoaders for model\n",
    "from torch.utils.data import DataLoader\n",
    "batch_size = 512\n",
    "dl_train = DataLoader(emnist_train_dataset,\n",
    "                      batch_size,\n",
    "                      shuffle = True)\n",
    "dl_dev = DataLoader(emnist_dev_dataset,\n",
    "                      batch_size,\n",
    "                      shuffle = False)\n"
   ]
  },
  {
   "cell_type": "markdown",
   "metadata": {},
   "source": [
    "## Model\n",
    "\n",
    "Conv-ReLU-MaxPool-Conv-ReLU-MaxPool-FC1-FC2"
   ]
  },
  {
   "cell_type": "code",
   "execution_count": 63,
   "metadata": {},
   "outputs": [],
   "source": [
    "model = nn.Sequential()\n",
    "model.add_module(\n",
    "    'Convolution1',\n",
    "    nn.Conv2d(\n",
    "        in_channels = 1, out_channels = 6,\n",
    "        kernel_size = 3, padding = 1\n",
    "    )\n",
    ")\n",
    "model.add_module('ReLU1', nn.ReLU())\n",
    "model.add_module('MaxPool1', nn.MaxPool2d(kernel_size=2))\n",
    "model.add_module(\n",
    "    'Convolution2',\n",
    "    nn.Conv2d(\n",
    "        in_channels = 6, out_channels = 16,\n",
    "        kernel_size = 5, padding = 2\n",
    "    )\n",
    ")\n",
    "model.add_module('ReLU2',\n",
    "                 nn.ReLU()\n",
    "                 )\n",
    "model.add_module('MaxPool2',\n",
    "                 nn.MaxPool2d(kernel_size=2)\n",
    "                )\n",
    "model.add_module('Flat',\n",
    "                 nn.Flatten()\n",
    "                 )\n",
    "model.add_module('FC1',\n",
    "                 nn.Linear(784,256)\n",
    "                 )\n",
    "model.add_module('ReLU3',\n",
    "                 nn.ReLU()\n",
    "                 )\n",
    "model.add_module('FC2', \n",
    "                 nn.Linear(256,10)\n",
    "                 )"
   ]
  },
  {
   "cell_type": "code",
   "execution_count": 86,
   "metadata": {},
   "outputs": [
    {
     "data": {
      "text/plain": [
       "torch.Size([512, 10])"
      ]
     },
     "execution_count": 86,
     "metadata": {},
     "output_type": "execute_result"
    }
   ],
   "source": [
    "# sanity check for model\n",
    "x = torch.ones(512,1,28,28)\n",
    "model(x).shape"
   ]
  },
  {
   "cell_type": "code",
   "execution_count": 65,
   "metadata": {},
   "outputs": [],
   "source": [
    "# Choose loss function and optimizer\n",
    "loss_func = nn.CrossEntropyLoss()\n",
    "optimizer = torch.optim.AdamW(model.parameters(), lr = 0.003, weight_decay=0.005)\n"
   ]
  },
  {
   "cell_type": "code",
   "execution_count": 66,
   "metadata": {},
   "outputs": [],
   "source": [
    "# Trains model for number of epochs\n",
    "# Also creates lists for future plots\n",
    "def train(model, train, dev, epochs):\n",
    "    loss_train = [0 for _ in range(epochs)]\n",
    "    acc_train = [0 for _ in range(epochs)]\n",
    "    loss_dev = [0 for _ in range(epochs)]\n",
    "    acc_dev = [0 for _ in range(epochs)]\n",
    "    for i in range(epochs):\n",
    "        model.train()\n",
    "        for x, y in dl_train:\n",
    "            prediction = model(x)\n",
    "            loss = loss_func(prediction, y)\n",
    "            loss.backward()\n",
    "            optimizer.step()\n",
    "            optimizer.zero_grad()\n",
    "            loss_train[i] += loss.item()*y.size(0)\n",
    "            acc_train[i] += (torch.argmax(prediction, dim=1) == y).float().sum()\n",
    "        model.eval()\n",
    "        with torch.no_grad():\n",
    "            for x, y in dl_dev:\n",
    "                prediction = model(x)\n",
    "                loss = loss_func(prediction, y)\n",
    "                loss_dev[i] += loss.item()*y.size(0)\n",
    "                acc_dev[i] += (torch.argmax(prediction, dim=1) == y).float().sum()\n",
    "        for el in [loss_train, acc_train]:\n",
    "            el[i] /= len(dl_train.dataset)\n",
    "        for el in [loss_dev, acc_dev]:\n",
    "            el[i] /= len(dl_dev.dataset)\n",
    "    \n",
    "        print(f'Epoch {i+1}, train: {acc_train[i]}, dev: {acc_dev[i]}')\n",
    "    \n",
    "    return loss_train, acc_train, loss_dev, acc_dev"
   ]
  },
  {
   "cell_type": "code",
   "execution_count": 67,
   "metadata": {},
   "outputs": [
    {
     "name": "stdout",
     "output_type": "stream",
     "text": [
      "Epoch 1, train: 0.8303999900817871, dev: 0.9413999915122986\n",
      "Epoch 2, train: 0.9625800251960754, dev: 0.9706000089645386\n",
      "Epoch 3, train: 0.9753599762916565, dev: 0.9751999974250793\n",
      "Epoch 4, train: 0.9818400144577026, dev: 0.9797999858856201\n",
      "Epoch 5, train: 0.9847800135612488, dev: 0.9825999736785889\n",
      "Epoch 6, train: 0.9878600239753723, dev: 0.9847000241279602\n",
      "Epoch 7, train: 0.9894800186157227, dev: 0.986299991607666\n",
      "Epoch 8, train: 0.991320013999939, dev: 0.9832000136375427\n",
      "Epoch 9, train: 0.9915800094604492, dev: 0.986299991607666\n",
      "Epoch 10, train: 0.9934800267219543, dev: 0.9883999824523926\n"
     ]
    }
   ],
   "source": [
    "plots = train(model, dl_train, dl_dev, 10)"
   ]
  },
  {
   "cell_type": "code",
   "execution_count": 68,
   "metadata": {},
   "outputs": [
    {
     "name": "stdout",
     "output_type": "stream",
     "text": [
      "Test accuracy: 0.9904000163078308\n"
     ]
    }
   ],
   "source": [
    "prediction = model(MNIST_test_dataset.data.unsqueeze(1)/255.0)\n",
    "test_acc = (torch.argmax(prediction, dim = 1) == MNIST_test_dataset.targets).float().sum()\n",
    "print(f\"Test accuracy: {test_acc/len(MNIST_test_dataset.targets)}\")\n"
   ]
  },
  {
   "cell_type": "code",
   "execution_count": 84,
   "metadata": {},
   "outputs": [
    {
     "data": {
      "text/plain": [
       "Text(0.5, 1.0, 'Loss over epochs')"
      ]
     },
     "execution_count": 84,
     "metadata": {},
     "output_type": "execute_result"
    },
    {
     "data": {
      "image/png": "[encoded data removed]",
      "text/plain": [
       "<Figure size 640x480 with 1 Axes>"
      ]
     },
     "metadata": {},
     "output_type": "display_data"
    }
   ],
   "source": [
    "figure = plt.figure()\n",
    "plt.plot([i for i in range(10)], plots[0],'-')\n",
    "plt.plot([i for i in range(10)], plots[2], '->')\n",
    "plt.legend(['Train', 'Validation'])\n",
    "plt.xlabel('Epoch')\n",
    "plt.ylabel('Loss')\n",
    "plt.title('Loss over epochs')"
   ]
  },
  {
   "cell_type": "code",
   "execution_count": 85,
   "metadata": {},
   "outputs": [],
   "source": [
    "torch.save(model, './models/final_model.pt')"
   ]
  }
 ],
 "metadata": {
  "kernelspec": {
   "display_name": "Python 3.10.8 64-bit",
   "language": "python",
   "name": "python3"
  },
  "language_info": {
   "codemirror_mode": {
    "name": "ipython",
    "version": 3
   },
   "file_extension": ".py",
   "mimetype": "text/x-python",
   "name": "python",
   "nbconvert_exporter": "python",
   "pygments_lexer": "ipython3",
   "version": "3.10.8"
  },
  "orig_nbformat": 4,
  "vscode": {
   "interpreter": {
    "hash": "e7370f93d1d0cde622a1f8e1c04877d8463912d04d973331ad4851f04de6915a"
   }
  }
 },
 "nbformat": 4,
 "nbformat_minor": 2
}
